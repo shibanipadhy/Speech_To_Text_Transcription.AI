{
 "cells": [
  {
   "cell_type": "code",
   "execution_count": 4,
   "id": "d8e6fee4-3c81-4adb-82b5-45a954dfc07a",
   "metadata": {},
   "outputs": [],
   "source": [
    "import speech_recognition as sr"
   ]
  },
  {
   "cell_type": "code",
   "execution_count": 5,
   "id": "ad2220a5-d20d-487b-b01c-51c87ce618cc",
   "metadata": {},
   "outputs": [],
   "source": [
    "def transcribe_from_microphone():\n",
    "    recognizer = sr.Recognizer()\n",
    "    with sr.Microphone() as source:\n",
    "        print(\"Adjusting for ambient noise...\")\n",
    "        recognizer.adjust_for_ambient_noise(source)\n",
    "        print(\"Listening...\")\n",
    "        audio = recognizer.listen(source)\n",
    "\n",
    "    try:\n",
    "        text = recognizer.recognize_google(audio)\n",
    "        print(\"You said:\", text)\n",
    "        return text\n",
    "    except sr.UnknownValueError:\n",
    "        print(\"Could not understand audio\")\n",
    "    except sr.RequestError as e:\n",
    "        print(\"Request failed:\", e)"
   ]
  },
  {
   "cell_type": "code",
   "execution_count": 6,
   "id": "7adcbc39-2f23-4429-8d3c-e7cd4943668a",
   "metadata": {},
   "outputs": [
    {
     "name": "stdout",
     "output_type": "stream",
     "text": [
      "Adjusting for ambient noise...\n",
      "Listening...\n",
      "You said: hello\n"
     ]
    },
    {
     "data": {
      "text/plain": [
       "'hello'"
      ]
     },
     "execution_count": 6,
     "metadata": {},
     "output_type": "execute_result"
    }
   ],
   "source": [
    "transcribe_from_microphone()"
   ]
  },
  {
   "cell_type": "code",
   "execution_count": 7,
   "id": "bf71af74-de9f-4cfe-b074-efee93bf434e",
   "metadata": {},
   "outputs": [],
   "source": [
    "import speech_recognition as sr\n",
    "\n",
    "def transcribe_audio_file(file_path):\n",
    "    recognizer = sr.Recognizer()\n",
    "    with sr.AudioFile(file_path) as source:\n",
    "        print(\"Reading audio file...\")\n",
    "        audio = recognizer.record(source)\n",
    "\n",
    "    try:\n",
    "        text = recognizer.recognize_google(audio)\n",
    "        print(\"Transcription:\", text)\n",
    "        return text\n",
    "    except sr.UnknownValueError:\n",
    "        print(\"Could not understand audio\")\n",
    "    except sr.RequestError as e:\n",
    "        print(\"Request failed:\", e)"
   ]
  },
  {
   "cell_type": "code",
   "execution_count": 8,
   "id": "f5882349-6afc-4fbd-93ce-e89aef9190a1",
   "metadata": {},
   "outputs": [
    {
     "name": "stdout",
     "output_type": "stream",
     "text": [
      "Reading audio file...\n",
      "Transcription: hello\n"
     ]
    },
    {
     "data": {
      "text/plain": [
       "'hello'"
      ]
     },
     "execution_count": 8,
     "metadata": {},
     "output_type": "execute_result"
    }
   ],
   "source": [
    "transcribe_audio_file(\"test.WAV.wav\")"
   ]
  },
  {
   "cell_type": "code",
   "execution_count": 9,
   "id": "9152f643-5c6a-498a-a12f-c2d375097619",
   "metadata": {},
   "outputs": [],
   "source": [
    "def save_transcription(text, filename=\"transcription.txt\"):\n",
    "    with open(filename, \"w\") as file:\n",
    "        file.write(text)"
   ]
  },
  {
   "cell_type": "code",
   "execution_count": null,
   "id": "644bd740-bc88-4680-b822-22ac7f9f17e1",
   "metadata": {},
   "outputs": [],
   "source": []
  }
 ],
 "metadata": {
  "kernelspec": {
   "display_name": "Python 3 (ipykernel)",
   "language": "python",
   "name": "python3"
  },
  "language_info": {
   "codemirror_mode": {
    "name": "ipython",
    "version": 3
   },
   "file_extension": ".py",
   "mimetype": "text/x-python",
   "name": "python",
   "nbconvert_exporter": "python",
   "pygments_lexer": "ipython3",
   "version": "3.10.11"
  }
 },
 "nbformat": 4,
 "nbformat_minor": 5
}
